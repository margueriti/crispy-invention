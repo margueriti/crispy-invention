{
  "nbformat": 4,
  "nbformat_minor": 0,
  "metadata": {
    "colab": {
      "provenance": [],
      "include_colab_link": true
    },
    "kernelspec": {
      "name": "python3",
      "display_name": "Python 3"
    },
    "language_info": {
      "name": "python"
    }
  },
  "cells": [
    {
      "cell_type": "markdown",
      "metadata": {
        "id": "view-in-github",
        "colab_type": "text"
      },
      "source": [
        "<a href=\"https://colab.research.google.com/github/margueriti/crispy-invention/blob/main/Good_Research_Practices_Tutorial_8.ipynb\" target=\"_parent\"><img src=\"https://colab.research.google.com/assets/colab-badge.svg\" alt=\"Open In Colab\"/></a>"
      ]
    },
    {
      "cell_type": "markdown",
      "source": [
        "#**Tutorial 8: Communicating Your Conclusions**\n",
        "\n",
        "> Indented block\n",
        "\n",
        "> Indented block\n",
        "\n",
        "\n",
        "\n",
        "\n",
        "**Week 1, Day 1, Good Research Practices**\n",
        "\n",
        "**Content creators:** Marguerite Brown, Yuxin Zhou\n",
        "\n",
        "**Content reviewers:** TBD\n",
        "\n",
        "**Content editors:** TBD\n",
        "\n",
        "**Production editors:** TBD\n",
        "\n",
        "**Our 2023 Sponsors:** TBD"
      ],
      "metadata": {
        "id": "avjFjFXwWqyW"
      }
    },
    {
      "cell_type": "code",
      "source": [
        "# @title Video 7: Communicating Your Conclusions \n",
        "#Tech team will add code to format and display the video"
      ],
      "metadata": {
        "id": "97AsPZI3D8RG"
      },
      "execution_count": null,
      "outputs": []
    },
    {
      "cell_type": "markdown",
      "source": [
        "##**Activity: Communicating Your Conclusions**\n",
        "\n",
        "For the next 20 minutes, break out into groups of 2 or 3 and pick one presentation format and discuss:\n",
        "\n",
        "*   Who is the target audience of this format?\n",
        "*   What information is important to include?\n",
        "\n",
        "After this, come back together as a whole pod and discuss everyone's suggestions.\n"
      ],
      "metadata": {
        "id": "O7-P1IB2Slsr"
      }
    },
    {
      "cell_type": "markdown",
      "metadata": {
        "execution": {},
        "id": "9ShYExZumcqR"
      },
      "source": [
        "**Equity in the Science Publishing**\n",
        "<details>\n",
        "<summary>Click here for some information about equity and publishing</summary>\n",
        "\n",
        "There are aspects of our current research culture that perpetuate inequity in the publishing process. Academic institutions and funding agencies often place importance on publishing in peer-reviewed journals. However, they have some drawbacks, including\n",
        "\n",
        "*    Accessibility\n",
        "<ul><li>Papers in these journals are often kept behind a paywall, making them less accessible to people without the backing of either a university or a company.</li>\n",
        "<li>More and more journals offer the option of publishing open access, but at expense to the submitting authors: fees can often exceed 1000 USD.</li>\n",
        "<li>\n",
        "If you want to ensure accessibility, consider also releasing your results in other formats as well. For instance,\n",
        "<ul><li>Blog posts</li>\n",
        "<li>Podcasts</li>\n",
        "<li>Social media posts</li>\n",
        "<li>Conferences</li> </ul>\n",
        "<li>If you know that your research contains results that are relevant to specific populations, it is valuable to find ways to communicate your results to them.</li></ul>\n",
        "*    Peer Review as Gatekeeping\n",
        "<ul><li>At its best, the peer review process enforces scientific rigor.</li>\n",
        "<li>At its worst, it can become a tool for enforcing pre-existing norms, including the biases of its reviewers.</li>\n",
        "<li>REMEMBER: Bad experiences with reviewers and rejections does not mean that your research is bad. There are Nobel Prize winning papers that were rejected in peer review BECAUSE they were introducing important new ideas.</li>\n",
        "<li>Further Reading:</li>\n",
        "<ul><li>Campanario, J. M. (2009). Rejecting and resisting Nobel class discoveries: Accounts by Nobel Laureates. Scientometrics, 81(2), 549–565.</li>\n",
        "<li>Bancroft, S. F., Ryoo, K., & Miles, M. (2022). Promoting equity in the peer review process of journal publication. Science Education, 106, 1232– 1248.  https://doi.org/10.1002/sce.21733</li></ul> </ul>"
      ]
    },
    {
      "cell_type": "markdown",
      "source": [
        "#**Tutorials 5-8 Summary**\n",
        "\n",
        "In this tutorial, we worked through how to analyze and present research.\n",
        "\n",
        "*   We learned how to draft an analysis (Step 5)\n",
        "*   We implemented the analysis that we drafted (Step 6)\n",
        "*   We learned how to interpret the results of the analysis (Step 7)\n",
        "*   We learned about how to communicate the conclusions of our research (Step 8)\n"
      ],
      "metadata": {
        "id": "O0JSkA9tjZrC"
      }
    }
  ]
}